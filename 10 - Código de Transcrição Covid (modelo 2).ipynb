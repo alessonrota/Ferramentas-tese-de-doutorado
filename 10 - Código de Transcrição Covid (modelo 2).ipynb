{
 "cells": [
  {
   "cell_type": "markdown",
   "metadata": {},
   "source": [
    "### Explicação do Código\n",
    "\n",
    "    Extração de Áudio com FFmpeg:\n",
    "        O FFmpeg extrai o áudio do vídeo e converte para um arquivo .wav mono com taxa de amostragem de 16 kHz, compatível com o Whisper.\n",
    "\n",
    "    Carregamento do Modelo Whisper:\n",
    "        O modelo Whisper e seu tokenizer são carregados do Hugging Face. Certifique-se de estar usando o dispositivo correto (CPU ou GPU).\n",
    "\n",
    "    Transcrição do Áudio:\n",
    "        A função pipeline facilita a transcrição do áudio. O texto resultante da transcrição é extraído e exibido."
   ]
  },
  {
   "cell_type": "markdown",
   "metadata": {},
   "source": [
    "#Pré-requisitos\n",
    "\n",
    "    Certifique-se de ter instalado as bibliotecas necessárias:"
   ]
  },
  {
   "cell_type": "code",
   "execution_count": null,
   "metadata": {},
   "outputs": [],
   "source": [
    "!pip install transformers ffmpeg-python torch\n"
   ]
  },
  {
   "cell_type": "markdown",
   "metadata": {},
   "source": [
    "### Tenha um arquivo de vídeo no formato suportado pela Biblioteca FFmpeg."
   ]
  },
  {
   "cell_type": "code",
   "execution_count": null,
   "metadata": {},
   "outputs": [],
   "source": [
    "import ffmpeg\n",
    "from transformers import pipeline, WhisperProcessor, WhisperForConditionalGeneration\n",
    "import torch\n",
    "\n",
    "# Função para extrair áudio de um arquivo de vídeo\n",
    "def extract_audio(video_path, audio_path):\n",
    "    \"\"\"\n",
    "    Extrai o áudio de um arquivo de vídeo e o salva como arquivo .wav.\n",
    "    \"\"\"\n",
    "    try:\n",
    "        (\n",
    "            ffmpeg\n",
    "            .input(video_path)\n",
    "            .output(audio_path, format=\"wav\", ac=1, ar=\"16000\")  # Mono (ac=1), taxa de amostragem 16kHz (ar=16000)\n",
    "            .overwrite_output()\n",
    "            .run()\n",
    "        )\n",
    "        print(f\"Áudio extraído com sucesso para {audio_path}\")\n",
    "    except Exception as e:\n",
    "        print(f\"Erro ao extrair áudio: {e}\")\n",
    "\n",
    "# Caminho do arquivo de vídeo\n",
    "video_file = \"seu_video.mp4\"  # Substitua pelo caminho do seu arquivo de vídeo\n",
    "audio_file = \"extraido_audio.wav\"  # Arquivo de saída do áudio\n",
    "\n",
    "# Extrair o áudio\n",
    "extract_audio(video_file, audio_file)\n",
    "\n",
    "# Carregar o modelo Whisper da Hugging Face\n",
    "print(\"Carregando modelo Whisper...\")\n",
    "device = \"cuda\" if torch.cuda.is_available() else \"cpu\"\n",
    "model = WhisperForConditionalGeneration.from_pretrained(\"openai/whisper-base\").to(device)\n",
    "processor = WhisperProcessor.from_pretrained(\"openai/whisper-base\")\n",
    "\n",
    "# Função para transcrever áudio\n",
    "def transcribe_audio(audio_path):\n",
    "    \"\"\"\n",
    "    Transcreve o áudio usando o modelo Whisper da Hugging Face.\n",
    "    \"\"\"\n",
    "    # Carregar o pipeline de transcrição\n",
    "    transcriber = pipeline(\n",
    "        \"automatic-speech-recognition\",\n",
    "        model=model,\n",
    "        tokenizer=processor.tokenizer,\n",
    "        device=0 if torch.cuda.is_available() else -1\n",
    "    )\n",
    "\n",
    "    # Transcrever o áudio\n",
    "    print(\"Transcrevendo áudio...\")\n",
    "    try:\n",
    "        result = transcriber(audio_path)\n",
    "        print(\"Transcrição concluída!\")\n",
    "        return result[\"text\"]\n",
    "    except Exception as e:\n",
    "        print(f\"Erro na transcrição: {e}\")\n",
    "        return None\n",
    "\n",
    "# Transcrever o áudio extraído\n",
    "transcription = transcribe_audio(audio_file)\n",
    "\n",
    "# Exibir a transcrição\n",
    "if transcription:\n",
    "    print(\"Transcrição do áudio:\")\n",
    "    print(transcription)\n",
    "else:\n",
    "    print(\"Não foi possível transcrever o áudio.\")"
   ]
  }
 ],
 "metadata": {
  "language_info": {
   "name": "python"
  }
 },
 "nbformat": 4,
 "nbformat_minor": 2
}
