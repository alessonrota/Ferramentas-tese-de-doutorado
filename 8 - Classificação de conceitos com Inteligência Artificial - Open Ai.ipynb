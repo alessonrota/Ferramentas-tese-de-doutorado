version https://git-lfs.github.com/spec/v1
oid sha256:5963b0357cf8bda04df3c443c67b0673b6df8aad3521b3f21c796029b24d6e19
size 15453
