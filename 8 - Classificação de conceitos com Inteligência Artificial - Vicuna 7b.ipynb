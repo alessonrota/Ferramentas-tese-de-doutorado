version https://git-lfs.github.com/spec/v1
oid sha256:c34db695f7aef2afd121eccd6b9cc232d9e6806b242bd3b936e0cfe30f631977
size 14892
