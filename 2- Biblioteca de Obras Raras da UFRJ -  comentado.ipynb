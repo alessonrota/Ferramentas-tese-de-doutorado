version https://git-lfs.github.com/spec/v1
oid sha256:30aa144cdd39d72a29b1a170efff7081a56935acaa483a5e0c630dfcea813876
size 12647
