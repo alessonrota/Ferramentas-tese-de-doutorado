version https://git-lfs.github.com/spec/v1
oid sha256:408268b11184feb674001239b14cf32c7b0d6ccefa7d432c3f2351a77709cec6
size 2981
