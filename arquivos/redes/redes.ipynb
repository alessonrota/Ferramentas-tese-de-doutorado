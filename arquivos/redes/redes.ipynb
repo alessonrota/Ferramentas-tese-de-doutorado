{
 "cells": [
  {
   "cell_type": "code",
   "execution_count": 16,
   "metadata": {},
   "outputs": [
    {
     "data": {
      "text/plain": [
       "'combined_graph_full_data.gml'"
      ]
     },
     "execution_count": 16,
     "metadata": {},
     "output_type": "execute_result"
    }
   ],
   "source": [
    "import pandas as pd\n",
    "import networkx as nx\n",
    "\n",
    "# Caminhos dos arquivos\n",
    "ihgb_path = 'IHGB.xlsx'\n",
    "junta_academia_path = 'Junta-Academia.xlsx'\n",
    "\n",
    "# Carregar os dados\n",
    "ihgb_data = pd.ExcelFile(ihgb_path).parse(\"Sheet1\")\n",
    "junta_academia_data = pd.ExcelFile(junta_academia_path).parse(\"Sheet1\")\n",
    "\n",
    "# Ajustar índices para criar matrizes de adjacência\n",
    "ihgb_matrix = ihgb_data.set_index(\"Lista de Códigos\")\n",
    "junta_matrix = junta_academia_data.set_index(\"Lista de Códigos\")\n",
    "\n",
    "# Identificar nós comuns\n",
    "common_nodes = ihgb_matrix.index.intersection(junta_matrix.index)\n",
    "ihgb_matrix = ihgb_matrix.loc[common_nodes, common_nodes]\n",
    "junta_matrix = junta_matrix.loc[common_nodes, common_nodes]\n",
    "\n",
    "# Criar grafos\n",
    "ihgb_graph = nx.from_pandas_adjacency(ihgb_matrix, create_using=nx.Graph())\n",
    "junta_graph = nx.from_pandas_adjacency(junta_matrix, create_using=nx.Graph())\n",
    "\n",
    "# Combinar grafos\n",
    "combined_graph = nx.Graph()\n",
    "\n",
    "# Adicionar arestas do IHGB\n",
    "for u, v, data in ihgb_graph.edges(data=True):\n",
    "    weight1 = data.get(\"weight\", 0)\n",
    "    if junta_graph.has_edge(u, v):\n",
    "        weight2 = junta_graph[u][v][\"weight\"]\n",
    "        combined_graph.add_edge(u, v, weight=weight1 + weight2, origin=\"Both\")\n",
    "    else:\n",
    "        combined_graph.add_edge(u, v, weight=weight1, origin=\"IHGB\")\n",
    "\n",
    "# Adicionar arestas exclusivas da Junta-Academia\n",
    "for u, v, data in junta_graph.edges(data=True):\n",
    "    if not combined_graph.has_edge(u, v):\n",
    "        weight2 = data.get(\"weight\", 0)\n",
    "        combined_graph.add_edge(u, v, weight=weight2, origin=\"Junta-Academia\")\n",
    "\n",
    "# Adicionar atributos para os nós\n",
    "for node in combined_graph.nodes():\n",
    "    combined_graph.nodes[node][\"label\"] = node\n",
    "\n",
    "# Salvar o grafo combinado como GML\n",
    "output_path = \"combined_graph_full_data.gml\"\n",
    "nx.write_gml(combined_graph, output_path)\n",
    "\n",
    "output_path\n"
   ]
  }
 ],
 "metadata": {
  "kernelspec": {
   "display_name": "base",
   "language": "python",
   "name": "python3"
  },
  "language_info": {
   "codemirror_mode": {
    "name": "ipython",
    "version": 3
   },
   "file_extension": ".py",
   "mimetype": "text/x-python",
   "name": "python",
   "nbconvert_exporter": "python",
   "pygments_lexer": "ipython3",
   "version": "3.10.9"
  }
 },
 "nbformat": 4,
 "nbformat_minor": 2
}
