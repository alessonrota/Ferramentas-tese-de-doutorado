version https://git-lfs.github.com/spec/v1
oid sha256:8643d93d8ecd23c66b505516cd79e0e8a60cd0f17b9c6790ca0cd941e3d656e6
size 571983
