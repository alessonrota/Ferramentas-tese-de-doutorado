version https://git-lfs.github.com/spec/v1
oid sha256:c8d0100d9de301aca142975e8f24a1dc86e73d1a91d6948ccd2e25271a2608ec
size 481692
