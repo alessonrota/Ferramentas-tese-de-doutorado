version https://git-lfs.github.com/spec/v1
oid sha256:b320b7887471a5b56b03d3fdbc9f11c0146f975fa15f141b59280291b3ec6138
size 12375
