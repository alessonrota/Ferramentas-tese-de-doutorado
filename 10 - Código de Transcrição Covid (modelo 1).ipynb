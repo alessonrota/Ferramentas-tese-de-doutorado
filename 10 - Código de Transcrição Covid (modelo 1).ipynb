{
 "cells": [
  {
   "cell_type": "markdown",
   "metadata": {},
   "source": [
    "## O código abaixo extrai as faixas de áudio do Youtube e converte para Mp3. Às vezez é necessário converter manualmente de MP3 para WAV, conforme explicado a seguir. Ao final, a transcrição será salva em um arquivo .txt."
   ]
  },
  {
   "cell_type": "markdown",
   "metadata": {},
   "source": [
    "### instalando bibliotecas"
   ]
  },
  {
   "cell_type": "code",
   "execution_count": null,
   "metadata": {},
   "outputs": [
    {
     "name": "stdout",
     "output_type": "stream",
     "text": [
      "Requirement already satisfied: yt-dlp in c:\\users\\alesson\\anaconda3\\lib\\site-packages (2024.11.18)\n",
      "Note: you may need to restart the kernel to use updated packages.\n"
     ]
    },
    {
     "name": "stderr",
     "output_type": "stream",
     "text": [
      "WARNING: Ignoring invalid distribution -yproj (c:\\users\\alesson\\anaconda3\\lib\\site-packages)\n",
      "WARNING: Ignoring invalid distribution -yproj (c:\\users\\alesson\\anaconda3\\lib\\site-packages)\n",
      "WARNING: Ignoring invalid distribution -yproj (c:\\users\\alesson\\anaconda3\\lib\\site-packages)\n"
     ]
    }
   ],
   "source": [
    "pip install yt-dlp\n"
   ]
  },
  {
   "cell_type": "markdown",
   "metadata": {},
   "source": [
    "### Baixando mp3 do Youtube"
   ]
  },
  {
   "cell_type": "code",
   "execution_count": null,
   "metadata": {},
   "outputs": [
    {
     "name": "stdout",
     "output_type": "stream",
     "text": [
      "Erro ao executar yt-dlp.\n",
      "Saída do erro: ERROR: Postprocessing: ffprobe and ffmpeg not found. Please install or provide the path using --ffmpeg-location\n",
      "\n"
     ]
    }
   ],
   "source": [
    "import subprocess\n",
    "\n",
    "# URL do vídeo no YouTube\n",
    "video_url = \"https://youtu.be/IBANLhy0ofc\"\n",
    "\n",
    "# Comando para baixar o áudio\n",
    "command = [\n",
    "    \"yt-dlp\", \n",
    "    \"-f\", \"bestaudio\", \n",
    "    \"--extract-audio\", \n",
    "    \"--audio-format\", \"wav\", \n",
    "    video_url\n",
    "]\n",
    "\n",
    "# Executar o comando com detalhes de saída\n",
    "try:\n",
    "    result = subprocess.run(command, check=True, text=True, capture_output=True)\n",
    "    print(\"Download e conversão do áudio concluídos!\")\n",
    "    print(result.stdout)  # Exibe a saída do comando\n",
    "except subprocess.CalledProcessError as e:\n",
    "    print(\"Erro ao executar yt-dlp.\")\n",
    "    print(\"Saída do erro:\", e.stderr)\n",
    "except Exception as e:\n",
    "    print(f\"Ocorreu um erro inesperado: {e}\")\n"
   ]
  },
  {
   "cell_type": "markdown",
   "metadata": {},
   "source": [
    "#### Teoricamente, o comando acima converteria o arquivo já no formato ideal para a transcrição, que é o wav. Todavia, geralmente dá erro no endereço da biblioteca ffmpeg. Para contornar o problema, faça a conversão do arquivo em alguma plataforma online, como https://convertio.co    "
   ]
  },
  {
   "cell_type": "markdown",
   "metadata": {},
   "source": [
    "### Instalando bibliotecas para transcrição"
   ]
  },
  {
   "cell_type": "code",
   "execution_count": 38,
   "metadata": {},
   "outputs": [
    {
     "name": "stdout",
     "output_type": "stream",
     "text": [
      "Collecting openai-whisper\n",
      "  Downloading openai-whisper-20240930.tar.gz (800 kB)\n",
      "     ---------------------------------------- 0.0/800.5 kB ? eta -:--:--\n",
      "     ------------------------ ------------- 524.3/800.5 kB 5.6 MB/s eta 0:00:01\n",
      "     -------------------------------------- 800.5/800.5 kB 4.3 MB/s eta 0:00:00\n",
      "  Installing build dependencies: started\n",
      "  Installing build dependencies: finished with status 'done'\n",
      "  Getting requirements to build wheel: started\n",
      "  Getting requirements to build wheel: finished with status 'done'\n",
      "  Preparing metadata (pyproject.toml): started\n",
      "  Preparing metadata (pyproject.toml): finished with status 'done'\n",
      "Requirement already satisfied: numba in c:\\users\\alesson\\anaconda3\\lib\\site-packages (from openai-whisper) (0.56.4)\n",
      "Requirement already satisfied: numpy in c:\\users\\alesson\\anaconda3\\lib\\site-packages (from openai-whisper) (1.23.5)\n",
      "Requirement already satisfied: torch in c:\\users\\alesson\\anaconda3\\lib\\site-packages (from openai-whisper) (1.12.1)\n",
      "Requirement already satisfied: tqdm in c:\\users\\alesson\\anaconda3\\lib\\site-packages (from openai-whisper) (4.64.1)\n",
      "Collecting more-itertools (from openai-whisper)\n",
      "  Downloading more_itertools-10.5.0-py3-none-any.whl.metadata (36 kB)\n",
      "Collecting tiktoken (from openai-whisper)\n",
      "  Downloading tiktoken-0.8.0-cp310-cp310-win_amd64.whl.metadata (6.8 kB)\n",
      "Requirement already satisfied: llvmlite<0.40,>=0.39.0dev0 in c:\\users\\alesson\\anaconda3\\lib\\site-packages (from numba->openai-whisper) (0.39.1)\n",
      "Requirement already satisfied: setuptools in c:\\users\\alesson\\anaconda3\\lib\\site-packages (from numba->openai-whisper) (65.6.3)\n",
      "Requirement already satisfied: regex>=2022.1.18 in c:\\users\\alesson\\anaconda3\\lib\\site-packages (from tiktoken->openai-whisper) (2022.7.9)\n",
      "Requirement already satisfied: requests>=2.26.0 in c:\\users\\alesson\\anaconda3\\lib\\site-packages (from tiktoken->openai-whisper) (2.32.3)\n",
      "Requirement already satisfied: typing_extensions in c:\\users\\alesson\\anaconda3\\lib\\site-packages (from torch->openai-whisper) (4.4.0)\n",
      "Requirement already satisfied: colorama in c:\\users\\alesson\\anaconda3\\lib\\site-packages (from tqdm->openai-whisper) (0.4.6)\n",
      "Requirement already satisfied: charset-normalizer<4,>=2 in c:\\users\\alesson\\anaconda3\\lib\\site-packages (from requests>=2.26.0->tiktoken->openai-whisper) (2.0.4)\n",
      "Requirement already satisfied: idna<4,>=2.5 in c:\\users\\alesson\\anaconda3\\lib\\site-packages (from requests>=2.26.0->tiktoken->openai-whisper) (3.4)\n",
      "Requirement already satisfied: urllib3<3,>=1.21.1 in c:\\users\\alesson\\anaconda3\\lib\\site-packages (from requests>=2.26.0->tiktoken->openai-whisper) (1.26.14)\n",
      "Requirement already satisfied: certifi>=2017.4.17 in c:\\users\\alesson\\anaconda3\\lib\\site-packages (from requests>=2.26.0->tiktoken->openai-whisper) (2024.8.30)\n",
      "Downloading more_itertools-10.5.0-py3-none-any.whl (60 kB)\n",
      "Downloading tiktoken-0.8.0-cp310-cp310-win_amd64.whl (884 kB)\n",
      "   ---------------------------------------- 0.0/884.2 kB ? eta -:--:--\n",
      "   ---------------------------------------- 884.2/884.2 kB 5.7 MB/s eta 0:00:00\n",
      "Building wheels for collected packages: openai-whisper\n",
      "  Building wheel for openai-whisper (pyproject.toml): started\n",
      "  Building wheel for openai-whisper (pyproject.toml): finished with status 'done'\n",
      "  Created wheel for openai-whisper: filename=openai_whisper-20240930-py3-none-any.whl size=803358 sha256=cb3d7527190398dd13f7020d8435bc963ee1c9de707275b9674dd9e23f6ffdf6\n",
      "  Stored in directory: c:\\users\\alesson\\appdata\\local\\pip\\cache\\wheels\\dd\\4a\\1f\\d1c4bf3b9133c8168fe617ed979cab7b14fe381d059ffb9d83\n",
      "Successfully built openai-whisper\n",
      "Installing collected packages: more-itertools, tiktoken, openai-whisper\n",
      "Successfully installed more-itertools-10.5.0 openai-whisper-20240930 tiktoken-0.8.0\n",
      "Note: you may need to restart the kernel to use updated packages.\n"
     ]
    },
    {
     "name": "stderr",
     "output_type": "stream",
     "text": [
      "WARNING: Ignoring invalid distribution -yproj (c:\\users\\alesson\\anaconda3\\lib\\site-packages)\n",
      "WARNING: Ignoring invalid distribution -yproj (c:\\users\\alesson\\anaconda3\\lib\\site-packages)\n",
      "WARNING: Ignoring invalid distribution -yproj (c:\\users\\alesson\\anaconda3\\lib\\site-packages)\n"
     ]
    }
   ],
   "source": [
    "pip install openai-whisper\n"
   ]
  },
  {
   "cell_type": "code",
   "execution_count": 39,
   "metadata": {},
   "outputs": [
    {
     "name": "stdout",
     "output_type": "stream",
     "text": [
      "Collecting ffmpeg-python\n",
      "  Downloading ffmpeg_python-0.2.0-py3-none-any.whl.metadata (1.7 kB)\n",
      "Requirement already satisfied: future in c:\\users\\alesson\\anaconda3\\lib\\site-packages (from ffmpeg-python) (0.18.3)\n",
      "Downloading ffmpeg_python-0.2.0-py3-none-any.whl (25 kB)\n",
      "Installing collected packages: ffmpeg-python\n",
      "Successfully installed ffmpeg-python-0.2.0\n",
      "Note: you may need to restart the kernel to use updated packages.\n"
     ]
    },
    {
     "name": "stderr",
     "output_type": "stream",
     "text": [
      "WARNING: Ignoring invalid distribution -yproj (c:\\users\\alesson\\anaconda3\\lib\\site-packages)\n",
      "WARNING: Ignoring invalid distribution -yproj (c:\\users\\alesson\\anaconda3\\lib\\site-packages)\n",
      "WARNING: Ignoring invalid distribution -yproj (c:\\users\\alesson\\anaconda3\\lib\\site-packages)\n"
     ]
    }
   ],
   "source": [
    "pip install ffmpeg-python"
   ]
  },
  {
   "cell_type": "code",
   "execution_count": 40,
   "metadata": {},
   "outputs": [
    {
     "name": "stdout",
     "output_type": "stream",
     "text": [
      "Requirement already satisfied: torch in c:\\users\\alesson\\anaconda3\\lib\\site-packages (1.12.1)\n",
      "Requirement already satisfied: typing_extensions in c:\\users\\alesson\\anaconda3\\lib\\site-packages (from torch) (4.4.0)\n",
      "Note: you may need to restart the kernel to use updated packages.\n"
     ]
    },
    {
     "name": "stderr",
     "output_type": "stream",
     "text": [
      "WARNING: Ignoring invalid distribution -yproj (c:\\users\\alesson\\anaconda3\\lib\\site-packages)\n",
      "WARNING: Ignoring invalid distribution -yproj (c:\\users\\alesson\\anaconda3\\lib\\site-packages)\n",
      "WARNING: Ignoring invalid distribution -yproj (c:\\users\\alesson\\anaconda3\\lib\\site-packages)\n"
     ]
    }
   ],
   "source": [
    "pip install torch"
   ]
  },
  {
   "cell_type": "markdown",
   "metadata": {},
   "source": [
    "### Por fim, a transcrição. Não esquecer de alterar o endereço do arquivo de entrada. Cabe lembrar quer é necessário a revisão humana das transcrições."
   ]
  },
  {
   "cell_type": "code",
   "execution_count": null,
   "metadata": {},
   "outputs": [],
   "source": [
    "import whisper\n",
    "\n",
    "# Caminho do arquivo de áudio (em WAV, MP3 ou outros formatos suportados)\n",
    "audio_file = r\"D:\\Transcricoes\\Transcrições amanda\\códigos\\Relatos do Cotidiano Durante a Pandemia.wav\"  # Substitua pelo caminho do seu arquivo\n",
    "\n",
    "# Carregar o modelo Whisper\n",
    "model = whisper.load_model(\"base\")  # Use \"tiny\", \"small\", \"base\", ou \"large\" dependendo da performance\n",
    "\n",
    "# Realizar a transcrição\n",
    "try:\n",
    "    result = model.transcribe(audio_file, language=\"pt\")\n",
    "    print(\"Transcrição concluída!\")\n",
    "    \n",
    "    # Salvar a transcrição em um arquivo de texto\n",
    "    with open(\"transcricao.txt\", \"w\", encoding=\"utf-8\") as file:\n",
    "        file.write(result[\"text\"])\n",
    "    print(\"Transcrição salva em 'transcricao.txt'\")\n",
    "except Exception as e:\n",
    "    print(f\"Erro ao transcrever o áudio: {e}\")\n"
   ]
  }
 ],
 "metadata": {
  "kernelspec": {
   "display_name": "base",
   "language": "python",
   "name": "python3"
  },
  "language_info": {
   "codemirror_mode": {
    "name": "ipython",
    "version": 3
   },
   "file_extension": ".py",
   "mimetype": "text/x-python",
   "name": "python",
   "nbconvert_exporter": "python",
   "pygments_lexer": "ipython3",
   "version": "3.10.9"
  }
 },
 "nbformat": 4,
 "nbformat_minor": 2
}
