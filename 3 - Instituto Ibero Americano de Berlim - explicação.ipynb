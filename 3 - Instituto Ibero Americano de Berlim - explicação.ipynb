{
 "cells": [
  {
   "cell_type": "markdown",
   "metadata": {},
   "source": [
    "O código faz o download de imagens em alta resolução de livros digitalizados de uma biblioteca online (no caso, o site do IAI Berlin) e armazena as imagens em um diretório local. O script usa a biblioteca requests_html para interagir com o servidor e baixar as imagens das páginas do livro."
   ]
  },
  {
   "cell_type": "markdown",
   "metadata": {},
   "source": [
    "Passo 1: Instalar Dependências\n",
    "\n",
    "Antes de rodar o código, você precisa instalar as dependências necessárias:\n",
    "\n",
    "    Instale a biblioteca Requests-HTML:"
   ]
  },
  {
   "cell_type": "code",
   "execution_count": null,
   "metadata": {},
   "outputs": [],
   "source": [
    "pip install requests-html\n"
   ]
  },
  {
   "cell_type": "markdown",
   "metadata": {},
   "source": [
    "Certifique-se de que o diretório parent_dir existe:\n",
    "O caminho \"G:/Banco de dados/Base de dados/new germany restantes/alema\" deve ser substituído pela pasta desejada no seu computador. Certifique-se de ajustar esse caminho conforme necessário no seu sistema operacional"
   ]
  },
  {
   "cell_type": "markdown",
   "metadata": {},
   "source": [
    "Atenção. Os links do servidor podem mudar e devem ser atualizados nas variaveis abaixo. Por exemplo:"
   ]
  },
  {
   "cell_type": "code",
   "execution_count": null,
   "metadata": {},
   "outputs": [],
   "source": [
    "#link -> DOMAIN = 'https://digital.iai.spk-berlin.de/viewer/api/v1/records/'\n",
    "\n",
    "# def load_books():\n",
    "#    map = {}\n",
    "#    map[\"828135681\"] = [0]  # Livro 1\n",
    "#    map[\"837302463\"] = [0]  # Livro 2\n",
    "#    map[\"826789123\"] = [0]  # Livro 3\n",
    "#    map[\"821456789\"] = [0]  # Livro 4\n",
    "#    map[\"NEW_BOOK_ID\"] = [0]  # Novo Livro\n",
    "#    return map\n",
    "\n",
    "\n"
   ]
  },
  {
   "cell_type": "markdown",
   "metadata": {},
   "source": [
    "Configure as itens acima no código abaixo e execute o código"
   ]
  },
  {
   "cell_type": "code",
   "execution_count": null,
   "metadata": {},
   "outputs": [],
   "source": [
    "from requests_html import HTMLSession\n",
    "import os\n",
    "\n",
    "# URLs base para download de imagens\n",
    "DOMAIN = 'https://digital.iai.spk-berlin.de/viewer/api/v1/records/'\n",
    "SHORT_DOMAIN = 'https://digital.iai.spk-berlin.de/viewer/image/'\n",
    "\n",
    "# Parâmetros para o download de imagens em alta resolução\n",
    "SIZE = '.tif/full/2048,/0/default.jpg'\n",
    "\n",
    "# Diretório principal onde os arquivos serão salvos\n",
    "parent_dir = \"G:/Banco de dados/Base de dados/new germany restantes/alema\"\n",
    "\n",
    "# Define o User-Agent para simular um navegador real ao fazer as requisições\n",
    "DEFAULT_USER_AGENT = 'Mozilla/5.0 (Macintosh; Intel Mac OS X 10_15_6) AppleWebKit/537.36 (KHTML, like Gecko) Chrome/85.0.4183.102 Safari/537.36'\n",
    "\n",
    "# Inicializa uma sessão HTML para gerenciar requisições\n",
    "session = HTMLSession()\n",
    "headers = {'User-Agent': DEFAULT_USER_AGENT}\n",
    "\n",
    "# Função para criar uma pasta para salvar o livro\n",
    "def create_folder(name):\n",
    "    try:\n",
    "        path = os.path.join(parent_dir, name)\n",
    "        os.mkdir(path)\n",
    "        print(f\"Diretório '{name}' criado.\")\n",
    "    except OSError as e:\n",
    "        if e.errno == 17:\n",
    "            print(f\"Diretório '{name}' já existe.\")\n",
    "            pass\n",
    "\n",
    "# Função para carregar os livros que serão processados\n",
    "def load_books():\n",
    "    # Mapa que relaciona IDs dos livros com suas configurações (neste caso, a página inicial)\n",
    "    map = {}\n",
    "\n",
    "    # Adicione múltiplos IDs de livros aqui\n",
    "    map[\"828135681\"] = [0]  # Livro 1\n",
    "    map[\"837302463\"] = [0]  # Livro 2\n",
    "    map[\"826789123\"] = [0]  # Livro 3\n",
    "    map[\"821456789\"] = [0]  # Livro 4\n",
    "\n",
    "    # Continue adicionando IDs conforme necessário\n",
    "    return map\n",
    "\n",
    "# Carrega os livros a partir da função `load_books`\n",
    "books = load_books()\n",
    "\n",
    "# Índice de início (primeira página)\n",
    "start = 0\n",
    "\n",
    "# Função para configurar a URL de download de cada página do livro\n",
    "def setup_url(bookId, index):\n",
    "    images = bookId + '/files/images/'\n",
    "    page = start + index\n",
    "    url = DOMAIN + images + str(page).zfill(8) + SIZE  # Formata a URL com o número da página preenchido com zeros à esquerda\n",
    "    return url\n",
    "\n",
    "# Função para obter o número de páginas do livro a partir da URL da biblioteca\n",
    "def get_number_of_pages(bookId):\n",
    "    url = SHORT_DOMAIN + str(bookId)\n",
    "    response = session.get(url, headers=headers)\n",
    "    response.html.render()\n",
    "    number_of_pages = response.html.find('.navigate_last')\n",
    "    print(\"Número de páginas: \", number_of_pages[0].text)\n",
    "    return int(number_of_pages[0].text)\n",
    "\n",
    "# Função para fazer o download da imagem de uma página\n",
    "def download_image(bookId, url, page):\n",
    "    print(f\"Baixando Página: {page}\")\n",
    "    response = session.get(url, headers=headers)\n",
    "    response.html.render()\n",
    "    with open(os.path.join(parent_dir, bookId, f'page-{str(page).zfill(3)}.jpg'), 'wb') as w:\n",
    "        w.write(response.content)  # Salva o conteúdo da imagem no diretório apropriado\n",
    "\n",
    "# Função principal para baixar todas as páginas de um livro\n",
    "def download_book(bookId):\n",
    "    print(f\"\\nBaixando livro: {bookId}\")\n",
    "    pagesWithError = []\n",
    "    create_folder(bookId)  # Cria o diretório para armazenar as páginas do livro\n",
    "    numberOfPages = get_number_of_pages(bookId)  # Obtém o número total de páginas\n",
    "    numberOfPages += 1  # Incrementa o número total de páginas para a contagem correta\n",
    "    for index in range(1, numberOfPages):\n",
    "        url = setup_url(bookId, index)\n",
    "        try:\n",
    "            download_image(bookId, url, index)  # Tenta baixar cada página\n",
    "        except Exception as e:\n",
    "            print(e)\n",
    "            pagesWithError.append(index)  # Armazena as páginas que não puderam ser baixadas\n",
    "\n",
    "    # Tenta baixar novamente as páginas que tiveram erro\n",
    "    print(\"\\n\\nPáginas com erro: \", pagesWithError)\n",
    "    print(\"\\n\")\n",
    "    while len(pagesWithError) > 0:\n",
    "        print(f\"Número de páginas restantes: {len(pagesWithError)}\")\n",
    "        index = pagesWithError.pop()\n",
    "        url = setup_url(bookId, index)\n",
    "        try:\n",
    "            download_image(bookId, url, index)\n",
    "        except Exception as e:\n",
    "            pagesWithError.append(index)\n",
    "\n",
    "# Loop que percorre todos os livros carregados e inicia o processo de download\n",
    "for bookId in books:\n",
    "    download_book(bookId)\n"
   ]
  }
 ],
 "metadata": {
  "kernelspec": {
   "display_name": "base",
   "language": "python",
   "name": "python3"
  },
  "language_info": {
   "name": "python",
   "version": "3.10.9"
  }
 },
 "nbformat": 4,
 "nbformat_minor": 2
}
